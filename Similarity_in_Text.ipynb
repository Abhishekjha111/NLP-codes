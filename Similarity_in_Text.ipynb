{
  "nbformat": 4,
  "nbformat_minor": 0,
  "metadata": {
    "colab": {
      "name": "Similarity in Text.ipynb",
      "provenance": [],
      "collapsed_sections": []
    },
    "kernelspec": {
      "name": "python3",
      "display_name": "Python 3"
    }
  },
  "cells": [
    {
      "cell_type": "markdown",
      "metadata": {
        "id": "DdIXY4tcxtwM",
        "colab_type": "text"
      },
      "source": [
        "# String Similarity\n",
        "\n",
        "For example,\n",
        "\n",
        "Given string A: \"Robert\",\n",
        "\n",
        "Then string B: \"Amy Robertson\"\n",
        "\n",
        "would be a better match than String C: \"Richard\" "
      ]
    },
    {
      "cell_type": "markdown",
      "metadata": {
        "id": "WfnQKT7fuMmJ",
        "colab_type": "text"
      },
      "source": [
        "![alt text](https://miro.medium.com/max/1190/0*gyYGdraryZl76Akx.)"
      ]
    },
    {
      "cell_type": "markdown",
      "metadata": {
        "id": "gSY0KIvk_7ys",
        "colab_type": "text"
      },
      "source": [
        "### Using simple sequence matching"
      ]
    },
    {
      "cell_type": "code",
      "metadata": {
        "id": "VzjEI5bQxp3C",
        "colab_type": "code",
        "outputId": "e2ef9fcd-ffed-45fc-9716-911a052c6a68",
        "colab": {
          "base_uri": "https://localhost:8080/",
          "height": 34
        }
      },
      "source": [
        "from difflib import SequenceMatcher\n",
        "\n",
        "def similar(a, b):\n",
        "    return SequenceMatcher(None, a, b).ratio()\n",
        "\n",
        "similar(\"bear\",\"beer\")"
      ],
      "execution_count": 0,
      "outputs": [
        {
          "output_type": "execute_result",
          "data": {
            "text/plain": [
              "0.75"
            ]
          },
          "metadata": {
            "tags": []
          },
          "execution_count": 4
        }
      ]
    },
    {
      "cell_type": "code",
      "metadata": {
        "id": "SxQs1F8RW-Ba",
        "colab_type": "code",
        "outputId": "58297ebf-c5c4-4321-8d10-c726910e465e",
        "colab": {
          "base_uri": "https://localhost:8080/",
          "height": 34
        }
      },
      "source": [
        "# similar(\"Apple\", \"apple\")\n",
        "similar(\"Apple\",\"Mango\")"
      ],
      "execution_count": 0,
      "outputs": [
        {
          "output_type": "execute_result",
          "data": {
            "text/plain": [
              "0.0"
            ]
          },
          "metadata": {
            "tags": []
          },
          "execution_count": 7
        }
      ]
    },
    {
      "cell_type": "markdown",
      "metadata": {
        "id": "i9viQdQDb-RY",
        "colab_type": "text"
      },
      "source": [
        "### Cosine Similarity\n",
        "\n",
        "\n",
        "Cosine similarity is a measure of similarity between two non-zero vectors of an inner product space that measures the cosine of the angle between them. The cosine of 0° is 1, and it is less than 1 for any angle in the interval (0,π] radians. It is thus a judgment of orientation and not magnitude: two vectors with the same orientation have a cosine similarity of 1, two vectors oriented at 90° relative to each other have a similarity of 0, and two vectors diametrically opposed have a similarity of -1, independent of their magnitude. "
      ]
    },
    {
      "cell_type": "markdown",
      "metadata": {
        "id": "jj-GS-g9cImi",
        "colab_type": "text"
      },
      "source": [
        "![alt text](https://i2.wp.com/dataaspirant.com/wp-content/uploads/2015/04/cosine.png)"
      ]
    },
    {
      "cell_type": "markdown",
      "metadata": {
        "id": "obXD9DrpdBZ5",
        "colab_type": "text"
      },
      "source": [
        "![alt text](https://neo4j.com/docs/graph-algorithms/current/images/cosine-similarity.png)"
      ]
    },
    {
      "cell_type": "markdown",
      "metadata": {
        "id": "5fK7nbwCdUCh",
        "colab_type": "text"
      },
      "source": [
        "![alt text](https://datascience-enthusiast.com/figures/cosine_sim.png)"
      ]
    },
    {
      "cell_type": "code",
      "metadata": {
        "id": "dNSUrJgZb93f",
        "colab_type": "code",
        "colab": {}
      },
      "source": [
        "# dummy code\n",
        "def cosine_similarity(u, v):\n",
        "    \"\"\"\n",
        "    Cosine similarity reflects the degree of similariy between u and v\n",
        "        \n",
        "    Arguments:\n",
        "        u -- a word vector of shape (n,)          \n",
        "        v -- a word vector of shape (n,)\n",
        "\n",
        "    Returns:\n",
        "        cosine_similarity -- the cosine similarity between u and v defined by the formula above.\n",
        "    \"\"\"\n",
        "    \n",
        "    distance = 0.0\n",
        "    \n",
        "    ### START CODE HERE ###\n",
        "    # Compute the dot product between u and v (≈1 line)\n",
        "    dot = np.dot(u, v)\n",
        "    # Compute the L2 norm of u (≈1 line)\n",
        "    norm_u = np.sqrt(np.sum(u**2))\n",
        "    \n",
        "    # Compute the L2 norm of v (≈1 line)\n",
        "    norm_v = np.sqrt(np.sum(v**2))\n",
        "    # Compute the cosine similarity defined by formula (1) (≈1 line)\n",
        "    cosine_similarity = dot / np.dot(norm_u, norm_v)\n",
        "    ### END CODE HERE ###\n",
        "    \n",
        "    return cosine_similarity"
      ],
      "execution_count": 0,
      "outputs": []
    },
    {
      "cell_type": "code",
      "metadata": {
        "id": "z3UHAT5deAjr",
        "colab_type": "code",
        "outputId": "ce99aa03-dc08-4f08-a7d7-d6eeb9818482",
        "colab": {
          "base_uri": "https://localhost:8080/",
          "height": 66
        }
      },
      "source": [
        "import re, math\n",
        "from collections import Counter\n",
        "\n",
        "WORD = re.compile(r'\\w+')\n",
        "\n",
        "def get_cosine(vec1, vec2):\n",
        "     intersection = set(vec1.keys()) & set(vec2.keys())\n",
        "     numerator = sum([vec1[x] * vec2[x] for x in intersection])\n",
        "\n",
        "     sum1 = sum([vec1[x]**2 for x in vec1.keys()])\n",
        "     sum2 = sum([vec2[x]**2 for x in vec2.keys()])\n",
        "     denominator = math.sqrt(sum1) * math.sqrt(sum2)\n",
        "\n",
        "     if not denominator:\n",
        "        return 0.0\n",
        "     else:\n",
        "        return float(numerator) / denominator\n",
        "\n",
        "def text_to_vector(text):\n",
        "     words = WORD.findall(text)\n",
        "     return Counter(words)\n",
        "\n",
        "s1 = \"This is a foo bar sentence .\"\n",
        "s2 = \"This sentence is similar to a foo bar sentence .\"\n",
        "s3 = \"What is this string ? Totally not related to the other two lines .\"\n",
        "\n",
        "vector1 = text_to_vector(s1)\n",
        "print(vector1)\n",
        "vector2 = text_to_vector(s2)\n",
        "vector3 = text_to_vector(s3)\n",
        "cosine1 = get_cosine(vector1, vector2)\n",
        "cosine2 = get_cosine(vector2, vector3)\n",
        "print ('Cosine_01:', cosine1)\n",
        "print ('Cosine_02:', cosine2)"
      ],
      "execution_count": 0,
      "outputs": [
        {
          "output_type": "stream",
          "text": [
            "Counter({'This': 1, 'is': 1, 'a': 1, 'foo': 1, 'bar': 1, 'sentence': 1})\n",
            "Cosine_01: 0.8616404368553293\n",
            "Cosine_02: 0.17407765595569785\n"
          ],
          "name": "stdout"
        }
      ]
    },
    {
      "cell_type": "markdown",
      "metadata": {
        "id": "13rVKYfSPp_N",
        "colab_type": "text"
      },
      "source": [
        "### Levenshtein distance\n",
        "In information theory, linguistics and computer science, the Levenshtein distance is a string metric for measuring the difference between two sequences. Informally, the Levenshtein distance between two words is the minimum number of single-character edits (insertions, deletions or substitutions) required to change one word into the other. It is named after the Soviet mathematician Vladimir Levenshtein, who considered this distance in 1965\n",
        "\n",
        "The greater the Levenshtein distance, the greater are the difference between the strings. For example, from \"test\" to \"test\" the Levenshtein distance is 0 because both the source and target strings are identical. No transformations are needed. In contrast, from \"test\" to \"team\" the Levenshtein distance is 2 - two substitutions have to be done to turn \"test\" in to \"team\".\n",
        "\n",
        "The Levenshtein Distance and the underlying ideas are widely used in areas like computer science, computer linguistics, and even bioinformatics, molecular biology, DNA analysis. You can even measure the similarity of melodies or rhythms in music"
      ]
    },
    {
      "cell_type": "code",
      "metadata": {
        "id": "95R6DZsp4KpX",
        "colab_type": "code",
        "colab": {}
      },
      "source": [
        "cities = {\"Pittsburgh\":\"Pennsylvania\",\n",
        "          \"Tucson\":\"Arizona\",\n",
        "          \"Cincinnati\":\"Ohio\",\n",
        "          \"Albuquerque\":\"New Mexico\",\n",
        "          \"Culpeper\":\"Virginia\",\n",
        "          \"Asheville\":\"North Carolina\",\n",
        "          \"Worcester\":\"Massachusetts\",\n",
        "          \"Manhattan\":\"New York\",\n",
        "          \"Phoenix\":\"Arizona\",\n",
        "          \"Niagara Falls\":\"New York\"} "
      ],
      "execution_count": 0,
      "outputs": []
    },
    {
      "cell_type": "markdown",
      "metadata": {
        "id": "mbEEOt7vikCG",
        "colab_type": "text"
      },
      "source": [
        "So, trying to get the corresponding state names via the following dictionary accesses will raise exceptions:\n",
        "\n",
        "cities[\"Tuscon\"]\n",
        "\n",
        " cities[\"Pittsburg\"] \n",
        " \n",
        " cities[\"Cincinati\"] \n",
        " \n",
        " cities[\"Albequerque\"]\n",
        "\n",
        "If a human reader looks at these misspellings, he or she will have no problem in recognizing the city you have in mind. The Python dictionary on the other hand is pedantic and unforgivable. It only accepts a key, if it is exactly identical.\n",
        "\n",
        "The question is to what degree are two strings similar? What we need is a string similarity metric or a measure for the \"distance\" of strings."
      ]
    },
    {
      "cell_type": "markdown",
      "metadata": {
        "id": "RQj7FTir4jv2",
        "colab_type": "text"
      },
      "source": [
        "The minimum edit distance between two strings is the minimum numer of editing operations needed to convert one string into another. The editing operations can consist of insertions, deletions and substitutions."
      ]
    },
    {
      "cell_type": "code",
      "metadata": {
        "id": "arMWPABP4lEf",
        "colab_type": "code",
        "outputId": "b097a4c1-3366-49cb-82c2-d079b9f9517c",
        "colab": {
          "base_uri": "https://localhost:8080/",
          "height": 33
        }
      },
      "source": [
        "# Insertion of a single symbol. This means that we add a character to a string s. \n",
        "# Example: If we have the string s = \"Manhatan\", we can insert the character \"t\" to get the correct spelling\n",
        "\n",
        "s = \"Manhatan\"\n",
        "s = s[:5] + \"t\" + s[5:]\n",
        "print(s)"
      ],
      "execution_count": 0,
      "outputs": [
        {
          "output_type": "stream",
          "text": [
            "Manhattan\n"
          ],
          "name": "stdout"
        }
      ]
    },
    {
      "cell_type": "code",
      "metadata": {
        "id": "6HFapgxK4621",
        "colab_type": "code",
        "outputId": "70f8b6bb-ca26-47fd-e111-c374eca7e21e",
        "colab": {
          "base_uri": "https://localhost:8080/",
          "height": 33
        }
      },
      "source": [
        "# Deletion of a single symbol\n",
        "\n",
        "s = \"Mannhattan\"\n",
        "s = s[:2] + s[3:]\n",
        "s"
      ],
      "execution_count": 0,
      "outputs": [
        {
          "output_type": "execute_result",
          "data": {
            "text/plain": [
              "'Manhattan'"
            ]
          },
          "metadata": {
            "tags": []
          },
          "execution_count": 7
        }
      ]
    },
    {
      "cell_type": "code",
      "metadata": {
        "id": "HxMU-ikL5ESm",
        "colab_type": "code",
        "outputId": "45efd3d0-9ed9-4646-a641-85865e9e3fbd",
        "colab": {
          "base_uri": "https://localhost:8080/",
          "height": 33
        }
      },
      "source": [
        "# Substitution of a single symbol In the following example, we have to change the letter \"o\" into the letter \"a\" to get the correct spelling\n",
        "\n",
        "s = \"Manhatton\"\n",
        "s = s[:7] + \"a\" + s[8:]\n",
        "s"
      ],
      "execution_count": 0,
      "outputs": [
        {
          "output_type": "execute_result",
          "data": {
            "text/plain": [
              "'Manhattan'"
            ]
          },
          "metadata": {
            "tags": []
          },
          "execution_count": 8
        }
      ]
    },
    {
      "cell_type": "code",
      "metadata": {
        "id": "IH-Jvc0e5NjI",
        "colab_type": "code",
        "outputId": "2d42cbed-291f-4211-96d7-a710cd4f599e",
        "colab": {
          "base_uri": "https://localhost:8080/",
          "height": 66
        }
      },
      "source": [
        "\"\"\"\n",
        "The minimum edit distance between the two strings \"Mannhaton\" and \"Manhattan\" \n",
        "corresponds to the value 3, as we need three basic editing operation to transform\n",
        "the first one into the second one\n",
        "\"\"\"\n",
        "s = \"Mannhaton\"\n",
        "s = s[:2] + s[3:]         # deletion\n",
        "print(s)\n",
        "\n",
        "s = s[:5] + \"t\" + s[5:]   # insertion\n",
        "print(s)\n",
        "\n",
        "s = s[:7] + \"a\" + s[8:]   # substitution\n",
        "print(s)"
      ],
      "execution_count": 0,
      "outputs": [
        {
          "output_type": "stream",
          "text": [
            "Manhaton\n",
            "Manhatton\n",
            "Manhattan\n"
          ],
          "name": "stdout"
        }
      ]
    },
    {
      "cell_type": "markdown",
      "metadata": {
        "id": "dOWSbO0X6IH9",
        "colab_type": "text"
      },
      "source": [
        "The Levenshtein distance between two strings a and b is given by leva,b(len(a), len(b)) where leva,b(i, j) is equal to\n",
        "\n",
        "![alt text](http://www.cuelogic.com/wp-content/uploads/2017/01/Maths.jpg)\n",
        "\n",
        "\n",
        "The Levenshtein distance has the following properties:\n",
        "\n",
        "* It is zero if and only if the strings are equal.\n",
        "* It is at least the difference of the sizes of the two strings.\n",
        "* It is at most the length of the longer string.\n",
        "* Triangle inequality: The Levenshtein distance between two strings is no greater than the sum of their Levenshtein distances from a third string.\n"
      ]
    },
    {
      "cell_type": "code",
      "metadata": {
        "id": "rqV9vtui65Hu",
        "colab_type": "code",
        "outputId": "e8713dbc-3626-49a8-9d43-3e7abd451c51",
        "colab": {
          "base_uri": "https://localhost:8080/",
          "height": 33
        }
      },
      "source": [
        "def LD(s, t):\n",
        "    if s == \"\":\n",
        "        return len(t)\n",
        "    if t == \"\":\n",
        "        return len(s)\n",
        "    if s[-1] == t[-1]:\n",
        "        cost = 0\n",
        "    else:\n",
        "        cost = 1\n",
        "       \n",
        "    res = min([LD(s[:-1], t)+1,\n",
        "               LD(s, t[:-1])+1, \n",
        "               LD(s[:-1], t[:-1]) + cost])\n",
        "    return res\n",
        "print(LD(\"Python\", \"Peithen\"))"
      ],
      "execution_count": 0,
      "outputs": [
        {
          "output_type": "stream",
          "text": [
            "3\n"
          ],
          "name": "stdout"
        }
      ]
    },
    {
      "cell_type": "markdown",
      "metadata": {
        "id": "Nl9UnJum7vvK",
        "colab_type": "text"
      },
      "source": [
        "This recursive implementation is very inefficient because it recomputes the Levenshtein distance of the same substrings over and over again."
      ]
    },
    {
      "cell_type": "markdown",
      "metadata": {
        "id": "r_vfpZT27umU",
        "colab_type": "text"
      },
      "source": [
        "To compute the Levenshtein distance in a non-recursive way, we use a matrix containing the Levenshtein distances between all prefixes of the first string and all prefixes of the second one. We can dynamically compute the values in this matrix. The last value computed will be the distance between the two full strings. This is an algorithmic example of a bottom-up dynamic programming.\n",
        "\n",
        "The algorithm works like this:\n",
        "We set the cost for an insertion, a deletion and a substitution to 1. We want to calculate the distance between two string s and t with len(s) == m and len(t) == n. A matrix D is used, which contains in the (i,j)-cell the Levenshtein distance between s[:i+1] and t[:j+1]. The values of the matrix will be calculated starting with the upper left corner and ending with the lower right corner.\n",
        "\n",
        "We start with filling in the base cases, i.e. the row and the column with the index 0. Calculation in this case means that we fill the row with index 0 with the lenghts of the substrings of t and respectively fill the column with the index 0 with the lengths of the substrings of s.\n",
        "\n",
        "The values of all the other elements of the matrix only depend on the values of their left neighbour, the top neightbour and the top left one."
      ]
    },
    {
      "cell_type": "code",
      "metadata": {
        "id": "arWrQKND7JNf",
        "colab_type": "code",
        "outputId": "f1d9c453-7bc3-41ae-b862-e0330526f85b",
        "colab": {
          "base_uri": "https://localhost:8080/",
          "height": 115
        }
      },
      "source": [
        "def iterative_levenshtein(s, t):\n",
        "    \"\"\" \n",
        "        iterative_levenshtein(s, t) -> ldist\n",
        "        ldist is the Levenshtein distance between the strings \n",
        "        s and t.\n",
        "        For all i and j, dist[i,j] will contain the Levenshtein \n",
        "        distance between the first i characters of s and the \n",
        "        first j characters of t\n",
        "    \"\"\"\n",
        "    rows = len(s)+1\n",
        "    cols = len(t)+1\n",
        "    dist = [[0 for x in range(cols)] for x in range(rows)]\n",
        "    # source prefixes can be transformed into empty strings \n",
        "    # by deletions:\n",
        "    for i in range(1, rows):\n",
        "        dist[i][0] = i\n",
        "    # target prefixes can be created from an empty source string\n",
        "    # by inserting the characters\n",
        "    for i in range(1, cols):\n",
        "        dist[0][i] = i\n",
        "        \n",
        "    for col in range(1, cols):\n",
        "        for row in range(1, rows):\n",
        "            if s[row-1] == t[col-1]:\n",
        "                cost = 0\n",
        "            else:\n",
        "                cost = 1\n",
        "            dist[row][col] = min(dist[row-1][col] + 1,      # deletion\n",
        "                                 dist[row][col-1] + 1,      # insertion\n",
        "                                 dist[row-1][col-1] + cost) # substitution\n",
        "    for r in range(rows):\n",
        "        print(dist[r])\n",
        "    \n",
        " \n",
        "    return dist[row][col]\n",
        "print(iterative_levenshtein(\"flaw\", \"lawn\"))"
      ],
      "execution_count": 0,
      "outputs": [
        {
          "output_type": "stream",
          "text": [
            "[0, 1, 2, 3, 4]\n",
            "[1, 1, 2, 3, 4]\n",
            "[2, 1, 2, 3, 4]\n",
            "[3, 2, 1, 2, 3]\n",
            "[4, 3, 2, 1, 2]\n",
            "2\n"
          ],
          "name": "stdout"
        }
      ]
    },
    {
      "cell_type": "markdown",
      "metadata": {
        "id": "vZMJHBc_8BNd",
        "colab_type": "text"
      },
      "source": [
        "![alt text](https://www.python-course.eu/images/levenshtein_distance_matrix_explained.png)"
      ]
    },
    {
      "cell_type": "code",
      "metadata": {
        "id": "BY15ftt67Zf4",
        "colab_type": "code",
        "outputId": "32aa983f-3a16-4a47-b20a-e63505a75128",
        "colab": {
          "base_uri": "https://localhost:8080/",
          "height": 196
        }
      },
      "source": [
        "print(iterative_levenshtein(\"Manhattan\", \"Manahaton\"))"
      ],
      "execution_count": 0,
      "outputs": [
        {
          "output_type": "stream",
          "text": [
            "[0, 1, 2, 3, 4, 5, 6, 7, 8, 9]\n",
            "[1, 0, 1, 2, 3, 4, 5, 6, 7, 8]\n",
            "[2, 1, 0, 1, 2, 3, 4, 5, 6, 7]\n",
            "[3, 2, 1, 0, 1, 2, 3, 4, 5, 6]\n",
            "[4, 3, 2, 1, 1, 1, 2, 3, 4, 5]\n",
            "[5, 4, 3, 2, 1, 2, 1, 2, 3, 4]\n",
            "[6, 5, 4, 3, 2, 2, 2, 1, 2, 3]\n",
            "[7, 6, 5, 4, 3, 3, 3, 2, 2, 3]\n",
            "[8, 7, 6, 5, 4, 4, 3, 3, 3, 3]\n",
            "[9, 8, 7, 6, 5, 5, 4, 4, 4, 3]\n",
            "3\n"
          ],
          "name": "stdout"
        }
      ]
    },
    {
      "cell_type": "markdown",
      "metadata": {
        "id": "9gXy08oUA5aY",
        "colab_type": "text"
      },
      "source": [
        "The Levenshtein distance algorithm has been used in:\n",
        "\n",
        "* Spell checking\n",
        "* Speech recognition\n",
        "* DNA analysis\n",
        "* Plagiarism detection\n",
        "\n",
        "amongst other applications."
      ]
    },
    {
      "cell_type": "markdown",
      "metadata": {
        "id": "hIUYrB9Fv7s-",
        "colab_type": "text"
      },
      "source": [
        "### Longest Common Subsequence (LCS)\n",
        "\n",
        "LCS Problem Statement: Given two sequences, find the length of longest subsequence present in both of them. A subsequence is a sequence that appears in the same relative order, but not necessarily contiguous. For example, “abc”, “abg”, “bdf”, “aeg”, ‘”acefg”, .. etc are subsequences of “abcdefg”."
      ]
    },
    {
      "cell_type": "markdown",
      "metadata": {
        "id": "cHQwj_yXFLJw",
        "colab_type": "text"
      },
      "source": [
        "![alt text](https://d2vlcm61l7u1fs.cloudfront.net/media%2Fd94%2Fd943f42a-f414-430b-9889-5cebb13acbb1%2FphpNCI79Q.png)"
      ]
    },
    {
      "cell_type": "markdown",
      "metadata": {
        "id": "XrkUXudQFUVQ",
        "colab_type": "text"
      },
      "source": [
        "![alt text](https://www.researchgate.net/profile/Mathias_Ricken/publication/242116189/figure/fig1/AS:652592828932109@1532601663911/Dynamic-programming-algorithm-for-LCS.png)"
      ]
    },
    {
      "cell_type": "code",
      "metadata": {
        "id": "4PQxsdXWDq6U",
        "colab_type": "code",
        "outputId": "ccbbdf45-59ae-4a4f-cae5-54691463e6e9",
        "colab": {
          "base_uri": "https://localhost:8080/",
          "height": 33
        }
      },
      "source": [
        "def lcs(s1, s2):\n",
        "    matrix = [[\"\" for x in range(len(s2))] for x in range(len(s1))]\n",
        "    for i in range(len(s1)):\n",
        "        for j in range(len(s2)):\n",
        "            if s1[i] == s2[j]:\n",
        "                if i == 0 or j == 0:\n",
        "                    matrix[i][j] = s1[i]\n",
        "                else:\n",
        "                    matrix[i][j] = matrix[i-1][j-1] + s1[i]\n",
        "            else:\n",
        "                matrix[i][j] = max(matrix[i-1][j], matrix[i][j-1], key=len)\n",
        "\n",
        "    cs = matrix[-1][-1]\n",
        "\n",
        "    return len(cs), cs\n",
        "\n",
        "print(lcs(\"abcdaf\", \"acbcf\"))  "
      ],
      "execution_count": 0,
      "outputs": [
        {
          "output_type": "stream",
          "text": [
            "(4, 'abcf')\n"
          ],
          "name": "stdout"
        }
      ]
    }
  ]
}