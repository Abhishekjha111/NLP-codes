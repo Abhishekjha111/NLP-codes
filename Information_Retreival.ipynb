{
  "nbformat": 4,
  "nbformat_minor": 0,
  "metadata": {
    "colab": {
      "name": "Information Retreival.ipynb",
      "provenance": [],
      "collapsed_sections": []
    },
    "kernelspec": {
      "name": "python3",
      "display_name": "Python 3"
    }
  },
  "cells": [
    {
      "cell_type": "markdown",
      "metadata": {
        "id": "mJN3DLwqYVTp",
        "colab_type": "text"
      },
      "source": [
        "**Information retrieval** (IR) is the activity of obtaining information system resources that are relevant to an information need from a collection of those resources. Searches can be based on full-text or other content-based indexing. Information retrieval is the science of searching for information in a document, searching for documents themselves, and also searching for the metadata that describes data, and for databases of texts, images or sounds.  Web search engines are the most visible IR applications."
      ]
    },
    {
      "cell_type": "markdown",
      "metadata": {
        "id": "TsFMco0DZHVW",
        "colab_type": "text"
      },
      "source": [
        "An information retrieval process begins when a user enters a query into the system. Queries are formal statements of information needs, for example search strings in web search engines. In information retrieval a query does not uniquely identify a single object in the collection. Instead, several objects may match the query, perhaps with different degrees of relevancy.\n",
        "\n",
        "An object is an entity that is represented by information in a content collection or database. User queries are matched against the database information. However, as opposed to classical SQL queries of a database, in information retrieval the results returned may or may not match the query, so results are typically ranked. This ranking of results is a key difference of information retrieval searching compared to database searching.\n",
        "\n",
        "Depending on the application the data objects may be, for example, text documents, images, audio, mind maps or videos. Often the documents themselves are not kept or stored directly in the IR system, but are instead represented in the system by document surrogates or metadata.\n",
        "\n",
        "Most IR systems compute a numeric score on how well each object in the database matches the query, and rank the objects according to this value. The top ranking objects are then shown to the user. The process may then be iterated if the user wishes to refine the query."
      ]
    },
    {
      "cell_type": "markdown",
      "metadata": {
        "id": "6QKi3DE6f7ul",
        "colab_type": "text"
      },
      "source": [
        "Where is Information Retrieval used?\n",
        "\n",
        "**Use Case 1: Digital Library**\n",
        "\n",
        "A digital library is a library in which collection of data are stored in digital formats and accessible by computers. The digital content may be stored locally, or accessed remotely via computer networks. A digital library is a type of information retrieval system.\n",
        "\n",
        "**Use Case 2: Search Engine**\n",
        "\n",
        "A search engine is one of the most the practical applications of information retrieval techniques to large scale text collections.\n",
        "\n",
        "**Use Case 3**: **Image retrieval**\n",
        "\n",
        "An image retrieval system is a computer system for browsing, searching and retrieving images from a large database of digital images."
      ]
    },
    {
      "cell_type": "markdown",
      "metadata": {
        "id": "MYky9MYtYQ2l",
        "colab_type": "text"
      },
      "source": [
        "![alt text](https://jamesmccaffrey.files.wordpress.com/2016/10/precisionandrecall_informationretrieval.jpg)"
      ]
    },
    {
      "cell_type": "markdown",
      "metadata": {
        "id": "RbJB_MeHb8JC",
        "colab_type": "text"
      },
      "source": [
        "**Finding Similar Documents**: A reader is interested in a specific news article and you want to find similar articles to recommend. What is the right notion of similarity? Moreover, what if there are millions of other documents? Each time you want to a retrieve a new document, do you need to search through all other documents? How do you group similar documents together? How do you discover new, emerging topics that the documents cover? "
      ]
    },
    {
      "cell_type": "markdown",
      "metadata": {
        "id": "_pantf7DLsR4",
        "colab_type": "text"
      },
      "source": [
        "## Case Study : Retrieving Similar Publications @ UNM College of Pharmacy and School of Medicine"
      ]
    },
    {
      "cell_type": "markdown",
      "metadata": {
        "id": "s6qn54IBL4gC",
        "colab_type": "text"
      },
      "source": [
        "**Goal: Find similar papers using Title and Abstract text**\n",
        "\n",
        "In this case we will use Pandas, NLTK, Numpy, and SKLearn libraries to find similar articles published in PubMed using k-Nearest Neighbors.\n",
        "\n",
        "Steps:\n",
        "* Find the important keywords of each document using tf-idf\n",
        "* Apply knn_model on tf-idf to find similar papers\n",
        "* Cleaning:\n",
        "\n",
        " *Clean text from \\n and \\x things like that by Replacing \\n and \\x with white-spaces\n",
        " \n",
        " *Apply unicode\n",
        "\n",
        " *Make everything lower case"
      ]
    },
    {
      "cell_type": "code",
      "metadata": {
        "id": "wFbmtrScKpj7",
        "colab_type": "code",
        "outputId": "73b9253f-c598-438e-d2ed-0ca868c5cbd4",
        "colab": {
          "base_uri": "https://localhost:8080/",
          "height": 140
        }
      },
      "source": [
        "! pip install biopython"
      ],
      "execution_count": 0,
      "outputs": [
        {
          "output_type": "stream",
          "text": [
            "Collecting biopython\n",
            "\u001b[?25l  Downloading https://files.pythonhosted.org/packages/ed/77/de3ba8f3d3015455f5df859c082729198ee6732deaeb4b87b9cfbfbaafe3/biopython-1.74-cp36-cp36m-manylinux1_x86_64.whl (2.2MB)\n",
            "\u001b[K     |████████████████████████████████| 2.2MB 4.5MB/s \n",
            "\u001b[?25hRequirement already satisfied: numpy in /usr/local/lib/python3.6/dist-packages (from biopython) (1.16.5)\n",
            "Installing collected packages: biopython\n",
            "Successfully installed biopython-1.74\n"
          ],
          "name": "stdout"
        }
      ]
    },
    {
      "cell_type": "code",
      "metadata": {
        "id": "DQEge78QLyq7",
        "colab_type": "code",
        "colab": {}
      },
      "source": [
        "import pandas as pd\n",
        "import sklearn\n",
        "import numpy as np\n",
        "import nltk\n",
        "import re\n",
        "from Bio import Medline"
      ],
      "execution_count": 0,
      "outputs": []
    },
    {
      "cell_type": "markdown",
      "metadata": {
        "id": "kb18KSZvNc5Z",
        "colab_type": "text"
      },
      "source": [
        "Downloading paper abstracts\n",
        "First we must download text data that we are interested in using. To do this we will use articles indexed in pubmed.gov. For this notebook we are interested only in article published from the University of New Mexico College of Pharmacy and School of Medicine. Pubmed allows the use of filters/keywords to restrict your search to certain institutions. Retrieve articles affiliated with UNM CoP and SoM by using the following search string \"university of new mexico\"[AD] AND (\"pharmacy\"[AD] OR \"medicine\"[AD])\n",
        "\n",
        "Steps:\n",
        "\n",
        "* Navigate to pubmed.gov\n",
        "* Enter \"university of new mexico\"[AD] AND (\"pharmacy\"[AD] OR \"medicine\"[AD]) into the search box\n",
        "*Click 'Send to:' and choose 'File' and 'Format: MEDLINE'\n",
        "*Click 'Create File'\n",
        "\n",
        "As of 10 Oct 2019  there are a total of 8,315 articles found matching this search criteria. A file called pubmed_result.txt should have been saved to your computer. This file contains all of the articles matching the search criteria in MEDLINE format."
      ]
    },
    {
      "cell_type": "markdown",
      "metadata": {
        "id": "44ZL_vQjN4yb",
        "colab_type": "text"
      },
      "source": [
        "\n",
        "**Lets import the article data**"
      ]
    },
    {
      "cell_type": "code",
      "metadata": {
        "id": "anhINnmHOGgm",
        "colab_type": "code",
        "outputId": "093afd61-e60a-4ab7-a07f-54d8bc37b532",
        "colab": {
          "resources": {
            "http://localhost:8080/nbextensions/google.colab/files.js": {
              "data": "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",
              "ok": true,
              "headers": [
                [
                  "content-type",
                  "application/javascript"
                ]
              ],
              "status": 200,
              "status_text": ""
            }
          },
          "base_uri": "https://localhost:8080/",
          "height": 92
        }
      },
      "source": [
        "from google.colab import files\n",
        "\n",
        "uploaded = files.upload()\n",
        "\n",
        "for fn in uploaded.keys():\n",
        "  print('User uploaded file \"{name}\" with length {length} bytes'.format(\n",
        "      name=fn, length=len(uploaded[fn])))"
      ],
      "execution_count": 0,
      "outputs": [
        {
          "output_type": "display_data",
          "data": {
            "text/html": [
              "\n",
              "     <input type=\"file\" id=\"files-2b1436ea-fc3f-4e2b-a884-b4fff13e97b3\" name=\"files[]\" multiple disabled />\n",
              "     <output id=\"result-2b1436ea-fc3f-4e2b-a884-b4fff13e97b3\">\n",
              "      Upload widget is only available when the cell has been executed in the\n",
              "      current browser session. Please rerun this cell to enable.\n",
              "      </output>\n",
              "      <script src=\"/nbextensions/google.colab/files.js\"></script> "
            ],
            "text/plain": [
              "<IPython.core.display.HTML object>"
            ]
          },
          "metadata": {
            "tags": []
          }
        },
        {
          "output_type": "stream",
          "text": [
            "Saving pubmed_result.txt to pubmed_result.txt\n",
            "User uploaded file \"pubmed_result.txt\" with length 5062254 bytes\n"
          ],
          "name": "stdout"
        }
      ]
    },
    {
      "cell_type": "code",
      "metadata": {
        "id": "zfdSzcgkODhR",
        "colab_type": "code",
        "colab": {}
      },
      "source": [
        "# Function that uses the Medline module from\n",
        "# the Biopython library to parse and read MEDLINE\n",
        "# formatted files. Results are stored in a Pandas \n",
        "# DataFrame\n",
        "def read_medline_data(filename):\n",
        "    recs = Medline.parse(open(filename, 'r'))\n",
        "    text = pd.DataFrame(columns = [\"title\", \"authors\", \"abstract\"])\n",
        "    count = 0\n",
        "    for rec in recs:\n",
        "        try:\n",
        "            abstr = rec[\"AB\"]\n",
        "            title = rec[\"TI\"]\n",
        "            auths = rec[\"AU\"]\n",
        "            text = text.append(pd.DataFrame([[title, auths, abstr]],\n",
        "                                     columns=['title', 'authors', 'abstract']),\n",
        "                              ignore_index=True)            \n",
        "        except:\n",
        "            pass\n",
        "    return text"
      ],
      "execution_count": 0,
      "outputs": []
    },
    {
      "cell_type": "code",
      "metadata": {
        "id": "DGe4NkMaObUt",
        "colab_type": "code",
        "outputId": "159fe862-4218-4975-fd53-918ac9d9dc12",
        "colab": {
          "base_uri": "https://localhost:8080/",
          "height": 288
        }
      },
      "source": [
        "# Read in MEDLINE formatted text\n",
        "papers = read_medline_data(\"pubmed_result.txt\")\n",
        "\n",
        "# Show the top few papers\n",
        "papers.head()"
      ],
      "execution_count": 0,
      "outputs": [
        {
          "output_type": "execute_result",
          "data": {
            "text/html": [
              "<div>\n",
              "<style scoped>\n",
              "    .dataframe tbody tr th:only-of-type {\n",
              "        vertical-align: middle;\n",
              "    }\n",
              "\n",
              "    .dataframe tbody tr th {\n",
              "        vertical-align: top;\n",
              "    }\n",
              "\n",
              "    .dataframe thead th {\n",
              "        text-align: right;\n",
              "    }\n",
              "</style>\n",
              "<table border=\"1\" class=\"dataframe\">\n",
              "  <thead>\n",
              "    <tr style=\"text-align: right;\">\n",
              "      <th></th>\n",
              "      <th>title</th>\n",
              "      <th>authors</th>\n",
              "      <th>abstract</th>\n",
              "    </tr>\n",
              "  </thead>\n",
              "  <tbody>\n",
              "    <tr>\n",
              "      <th>0</th>\n",
              "      <td>Peer-Centered Versus Standard Physician-Center...</td>\n",
              "      <td>[Krantz TE, Rogers RG, Petersen TR, Dunivan GC...</td>\n",
              "      <td>OBJECTIVES: Peer counseling may improve upon p...</td>\n",
              "    </tr>\n",
              "    <tr>\n",
              "      <th>1</th>\n",
              "      <td>ISOPT Clinical Hot Topic Panel Discussion on C...</td>\n",
              "      <td>[Asbell PA, Aquavella JV, Hamrah P, Pepose JS,...</td>\n",
              "      <td>The cornea and its adnexa pose a unique situat...</td>\n",
              "    </tr>\n",
              "    <tr>\n",
              "      <th>2</th>\n",
              "      <td>Speed and quality goals in procedural skills l...</td>\n",
              "      <td>[Cook DA, Gas BL, Pankratz VS, Farley DR, Pusi...</td>\n",
              "      <td>Purpose: Compare time (speed) and product qual...</td>\n",
              "    </tr>\n",
              "    <tr>\n",
              "      <th>3</th>\n",
              "      <td>Amphotericin B Penetrates into the Central Ner...</td>\n",
              "      <td>[Petraitis V, Petraitiene R, Valdez JM, Pyrgos...</td>\n",
              "      <td>Hematogenous Candida meningoencephalitis (HCME...</td>\n",
              "    </tr>\n",
              "    <tr>\n",
              "      <th>4</th>\n",
              "      <td>A contemporary review of obstructive sleep apnea.</td>\n",
              "      <td>[Ralls F, Cutchen L]</td>\n",
              "      <td>PURPOSE OF REVIEW: This review provides a cont...</td>\n",
              "    </tr>\n",
              "  </tbody>\n",
              "</table>\n",
              "</div>"
            ],
            "text/plain": [
              "                                               title  ...                                           abstract\n",
              "0  Peer-Centered Versus Standard Physician-Center...  ...  OBJECTIVES: Peer counseling may improve upon p...\n",
              "1  ISOPT Clinical Hot Topic Panel Discussion on C...  ...  The cornea and its adnexa pose a unique situat...\n",
              "2  Speed and quality goals in procedural skills l...  ...  Purpose: Compare time (speed) and product qual...\n",
              "3  Amphotericin B Penetrates into the Central Ner...  ...  Hematogenous Candida meningoencephalitis (HCME...\n",
              "4  A contemporary review of obstructive sleep apnea.  ...  PURPOSE OF REVIEW: This review provides a cont...\n",
              "\n",
              "[5 rows x 3 columns]"
            ]
          },
          "metadata": {
            "tags": []
          },
          "execution_count": 5
        }
      ]
    },
    {
      "cell_type": "code",
      "metadata": {
        "id": "3PMnCkINOkFN",
        "colab_type": "code",
        "outputId": "df73c0d6-7fc7-4b68-b12e-89908dbd458d",
        "colab": {
          "base_uri": "https://localhost:8080/",
          "height": 106
        }
      },
      "source": [
        "print (\"Title: \", papers['title'][0])\n",
        "print ('\\n')\n",
        "print (\"Abstract: \", papers['abstract'][0])"
      ],
      "execution_count": 0,
      "outputs": [
        {
          "output_type": "stream",
          "text": [
            "Title:  Peer-Centered Versus Standard Physician-Centered Video Counseling for Midurethral Sling Surgery: A Randomized Controlled Trial.\n",
            "\n",
            "\n",
            "Abstract:  OBJECTIVES: Peer counseling may improve upon provider counseling and enhance patient preparedness for midurethral sling (MUS) surgery. We aimed to compare the impact of peer-centered versus standard preoperative video counseling by assessing patient preparedness for MUS surgery. METHODS: Women undergoing MUS were randomized to view either a peer-centered (PEER) or standard physician preoperative counseling video (PHYS). The PEER video featured a woman who had undergone MUS surgery and included the standard risks and benefits as well as additional information identified in prior work as important to patients. The PHYS video featured a surgeon discussing risks and benefits. Patients viewed either video at their preoperative visit and completed the Patient Preparedness Questionnaire (PPQ), Surgical Decision Satisfaction, Decisional Regret Scale, and the Urogenital Distress Inventory Short Form. Patients then underwent standard in-person surgeon counseling. Sessions were timed and compared with historical timed sessions. Our primary outcome was between-group differences in 6-week postoperative PPQ scores. RESULTS: Patient Preparedness Questionnaire scores did not differ between groups (postoperative PPQ scores: median [interquartile range], 95 [84, 100] vs 92 [80, 100]; P = 0.50). The PEER group reported higher decisional regret (15 [0, 28.75] vs 0 [0, 10], P = 0.02) and less symptom improvement on Urogenital Distress Inventory Short Form change scores compared with the PHYS group (47.2 [37.2, 62.5] vs 36.1 [16.5, 50], P = 0.03); secondary outcomes were not different between groups. In-person counseling times decreased after watching either video compared with the institution's historical standard (8:27 minutes [08:56, 17:14] vs 11:34 minutes [5:22, 13:07]; P < 0.005). CONCLUSION: Patient preparedness did not differ between groups. Decision regret did not differ between groups once adjusted for urinary symptoms.\n"
          ],
          "name": "stdout"
        }
      ]
    },
    {
      "cell_type": "code",
      "metadata": {
        "id": "guRK0is3Oqna",
        "colab_type": "code",
        "outputId": "ca0df3b8-5576-4f32-95c3-33ba81d2c5b2",
        "colab": {
          "base_uri": "https://localhost:8080/",
          "height": 340
        }
      },
      "source": [
        "# Function that cleans text by removing '\\x0c' and '\\n' characters\n",
        "# as well as all non-alpha characters and finally converts everything\n",
        "# to lower case\n",
        "def clean_text(text):\n",
        "    stop_words = ['\\x0c', '\\n']\n",
        "    for i in stop_words:\n",
        "        text.replace(i, ' ')\n",
        "    clean_text = re.sub('[^a-zA-Z]+', ' ', text)\n",
        "    return clean_text.lower()\n",
        "\n",
        "# Create a column for cleaned Abstract and cleaned Title\n",
        "papers['clean_abstract'] = papers['abstract'].apply(clean_text)\n",
        "papers['clean_title'] = papers['title'].apply(clean_text)\n",
        "\n",
        "papers.head()"
      ],
      "execution_count": 0,
      "outputs": [
        {
          "output_type": "execute_result",
          "data": {
            "text/html": [
              "<div>\n",
              "<style scoped>\n",
              "    .dataframe tbody tr th:only-of-type {\n",
              "        vertical-align: middle;\n",
              "    }\n",
              "\n",
              "    .dataframe tbody tr th {\n",
              "        vertical-align: top;\n",
              "    }\n",
              "\n",
              "    .dataframe thead th {\n",
              "        text-align: right;\n",
              "    }\n",
              "</style>\n",
              "<table border=\"1\" class=\"dataframe\">\n",
              "  <thead>\n",
              "    <tr style=\"text-align: right;\">\n",
              "      <th></th>\n",
              "      <th>title</th>\n",
              "      <th>authors</th>\n",
              "      <th>abstract</th>\n",
              "      <th>clean_abstract</th>\n",
              "      <th>clean_title</th>\n",
              "    </tr>\n",
              "  </thead>\n",
              "  <tbody>\n",
              "    <tr>\n",
              "      <th>0</th>\n",
              "      <td>Peer-Centered Versus Standard Physician-Center...</td>\n",
              "      <td>[Krantz TE, Rogers RG, Petersen TR, Dunivan GC...</td>\n",
              "      <td>OBJECTIVES: Peer counseling may improve upon p...</td>\n",
              "      <td>objectives peer counseling may improve upon pr...</td>\n",
              "      <td>peer centered versus standard physician center...</td>\n",
              "    </tr>\n",
              "    <tr>\n",
              "      <th>1</th>\n",
              "      <td>ISOPT Clinical Hot Topic Panel Discussion on C...</td>\n",
              "      <td>[Asbell PA, Aquavella JV, Hamrah P, Pepose JS,...</td>\n",
              "      <td>The cornea and its adnexa pose a unique situat...</td>\n",
              "      <td>the cornea and its adnexa pose a unique situat...</td>\n",
              "      <td>isopt clinical hot topic panel discussion on c...</td>\n",
              "    </tr>\n",
              "    <tr>\n",
              "      <th>2</th>\n",
              "      <td>Speed and quality goals in procedural skills l...</td>\n",
              "      <td>[Cook DA, Gas BL, Pankratz VS, Farley DR, Pusi...</td>\n",
              "      <td>Purpose: Compare time (speed) and product qual...</td>\n",
              "      <td>purpose compare time speed and product quality...</td>\n",
              "      <td>speed and quality goals in procedural skills l...</td>\n",
              "    </tr>\n",
              "    <tr>\n",
              "      <th>3</th>\n",
              "      <td>Amphotericin B Penetrates into the Central Ner...</td>\n",
              "      <td>[Petraitis V, Petraitiene R, Valdez JM, Pyrgos...</td>\n",
              "      <td>Hematogenous Candida meningoencephalitis (HCME...</td>\n",
              "      <td>hematogenous candida meningoencephalitis hcme ...</td>\n",
              "      <td>amphotericin b penetrates into the central ner...</td>\n",
              "    </tr>\n",
              "    <tr>\n",
              "      <th>4</th>\n",
              "      <td>A contemporary review of obstructive sleep apnea.</td>\n",
              "      <td>[Ralls F, Cutchen L]</td>\n",
              "      <td>PURPOSE OF REVIEW: This review provides a cont...</td>\n",
              "      <td>purpose of review this review provides a conte...</td>\n",
              "      <td>a contemporary review of obstructive sleep apnea</td>\n",
              "    </tr>\n",
              "  </tbody>\n",
              "</table>\n",
              "</div>"
            ],
            "text/plain": [
              "                                               title  ...                                        clean_title\n",
              "0  Peer-Centered Versus Standard Physician-Center...  ...  peer centered versus standard physician center...\n",
              "1  ISOPT Clinical Hot Topic Panel Discussion on C...  ...  isopt clinical hot topic panel discussion on c...\n",
              "2  Speed and quality goals in procedural skills l...  ...  speed and quality goals in procedural skills l...\n",
              "3  Amphotericin B Penetrates into the Central Ner...  ...  amphotericin b penetrates into the central ner...\n",
              "4  A contemporary review of obstructive sleep apnea.  ...  a contemporary review of obstructive sleep apnea \n",
              "\n",
              "[5 rows x 5 columns]"
            ]
          },
          "metadata": {
            "tags": []
          },
          "execution_count": 7
        }
      ]
    },
    {
      "cell_type": "code",
      "metadata": {
        "id": "K-x3vB5qPFcb",
        "colab_type": "code",
        "outputId": "9beedc69-df71-40dc-ab53-849cb09e3650",
        "colab": {
          "base_uri": "https://localhost:8080/",
          "height": 106
        }
      },
      "source": [
        "print (\"Title: \", papers['title'][0])\n",
        "print ('\\n')\n",
        "print (\"Abstract: \", papers['abstract'][0])"
      ],
      "execution_count": 0,
      "outputs": [
        {
          "output_type": "stream",
          "text": [
            "Title:  Peer-Centered Versus Standard Physician-Centered Video Counseling for Midurethral Sling Surgery: A Randomized Controlled Trial.\n",
            "\n",
            "\n",
            "Abstract:  OBJECTIVES: Peer counseling may improve upon provider counseling and enhance patient preparedness for midurethral sling (MUS) surgery. We aimed to compare the impact of peer-centered versus standard preoperative video counseling by assessing patient preparedness for MUS surgery. METHODS: Women undergoing MUS were randomized to view either a peer-centered (PEER) or standard physician preoperative counseling video (PHYS). The PEER video featured a woman who had undergone MUS surgery and included the standard risks and benefits as well as additional information identified in prior work as important to patients. The PHYS video featured a surgeon discussing risks and benefits. Patients viewed either video at their preoperative visit and completed the Patient Preparedness Questionnaire (PPQ), Surgical Decision Satisfaction, Decisional Regret Scale, and the Urogenital Distress Inventory Short Form. Patients then underwent standard in-person surgeon counseling. Sessions were timed and compared with historical timed sessions. Our primary outcome was between-group differences in 6-week postoperative PPQ scores. RESULTS: Patient Preparedness Questionnaire scores did not differ between groups (postoperative PPQ scores: median [interquartile range], 95 [84, 100] vs 92 [80, 100]; P = 0.50). The PEER group reported higher decisional regret (15 [0, 28.75] vs 0 [0, 10], P = 0.02) and less symptom improvement on Urogenital Distress Inventory Short Form change scores compared with the PHYS group (47.2 [37.2, 62.5] vs 36.1 [16.5, 50], P = 0.03); secondary outcomes were not different between groups. In-person counseling times decreased after watching either video compared with the institution's historical standard (8:27 minutes [08:56, 17:14] vs 11:34 minutes [5:22, 13:07]; P < 0.005). CONCLUSION: Patient preparedness did not differ between groups. Decision regret did not differ between groups once adjusted for urinary symptoms.\n"
          ],
          "name": "stdout"
        }
      ]
    },
    {
      "cell_type": "code",
      "metadata": {
        "id": "-ZZpTmDZPNPW",
        "colab_type": "code",
        "colab": {}
      },
      "source": [
        "'''Build tf-idf matrix based on Abstract and Title\n",
        "Use NLTK word_tokenize() and PorterStemmer() to tokenize and stem document Title and Abstract'''\n",
        "\n",
        "# Function that takes text, tokenizes it and returns list of stemmed tokens\n",
        "def tokenize_and_stem(text):\n",
        "    tokens = nltk.word_tokenize(text)\n",
        "    stemmer = nltk.stem.porter.PorterStemmer()\n",
        "    return [i for i in [stemmer.stem(t) for t in tokens] if len(i) > 2]"
      ],
      "execution_count": 0,
      "outputs": []
    },
    {
      "cell_type": "markdown",
      "metadata": {
        "id": "UzsLJ7uOPVfa",
        "colab_type": "text"
      },
      "source": [
        "**Create a tf-idf vectorizer using sklearn TfidfVectorizer**\n",
        "\n",
        "1. First we create the vectorizer specifying the paramters\n",
        "    * max_df is the maximum allowable document frequency for a token this is set to 0.50 to include terms that appear in less than 50% of documents.\n",
        "    * min_df is the minimum allowable document frequency for a token and is set to 0 to include all terms, even those that appear in only one document\n",
        "    * max_features sets the maximum number of features allowed and is set to an arbitrarily large number (i.e. 200,000) to ensure we capture at least as many features\n",
        "    * stop_words specifies the words/tokens to remove from the corpus\n",
        "    * use_idf enables reweighting each feature by its inverse-document-frequency when set to true\n",
        "    * tokenizer specifies which tokenizer to use, we want to tokenize and stem so we pass it our tokenized_and_stem() function we created above. The default tokenizer will tokenize words and include those greater than two characters in length.\n",
        "2. We then fit the vectorizer to our cleaned text using *vectorizer.fit_transform()*\n",
        "3. The output is a n*m matrix where n is the number of documents in our corpus and m is the number of features.\n",
        "4. We can inspect the features using *vectorizer.get_feature_names()*"
      ]
    },
    {
      "cell_type": "code",
      "metadata": {
        "id": "eXcVNLEpWBpY",
        "colab_type": "code",
        "outputId": "9698e37a-fa4e-4bde-937d-16931a7e434d",
        "colab": {
          "base_uri": "https://localhost:8080/",
          "height": 68
        }
      },
      "source": [
        "import nltk\n",
        "nltk.download('punkt')"
      ],
      "execution_count": 0,
      "outputs": [
        {
          "output_type": "stream",
          "text": [
            "[nltk_data] Downloading package punkt to /root/nltk_data...\n",
            "[nltk_data]   Unzipping tokenizers/punkt.zip.\n"
          ],
          "name": "stdout"
        },
        {
          "output_type": "execute_result",
          "data": {
            "text/plain": [
              "True"
            ]
          },
          "metadata": {
            "tags": []
          },
          "execution_count": 10
        }
      ]
    },
    {
      "cell_type": "code",
      "metadata": {
        "id": "SeCC4wWQPZL9",
        "colab_type": "code",
        "outputId": "38e3ed89-04b7-4e3d-c357-c3f8e2eee938",
        "colab": {
          "base_uri": "https://localhost:8080/",
          "height": 71
        }
      },
      "source": [
        "# Import the TfidfVectorizer from sklearn\n",
        "from sklearn.feature_extraction.text import TfidfVectorizer\n",
        "\n",
        "# Create vectorizer for Abstracts, max_df is set to 0.5, we only want\n",
        "# to include terms that appear in less tha 50% of the documents (i.e. rare terms)\n",
        "abs_tfidf_vectorizer = TfidfVectorizer(max_df=0.5, min_df=0, max_features=200000,\n",
        "               stop_words='english', use_idf=True, tokenizer=tokenize_and_stem)\n",
        "\n",
        "# Create vectorizer for Title, max_df is set to 0.5, we only want \n",
        "# to include terms that appear in less than 50% of the documents (i.e. rare terms)\n",
        "title_tfidf_vectorizer = TfidfVectorizer(max_df=0.5, min_df=0, max_features=200000,\n",
        "               stop_words='english', use_idf=True, tokenizer=tokenize_and_stem)\n",
        "\n",
        "# Compute TF-IDF weights for Abstracts\n",
        "tfidf_weights_abs = abs_tfidf_vectorizer.fit_transform(papers['clean_abstract'])"
      ],
      "execution_count": 0,
      "outputs": [
        {
          "output_type": "stream",
          "text": [
            "/usr/local/lib/python3.6/dist-packages/sklearn/feature_extraction/text.py:300: UserWarning: Your stop_words may be inconsistent with your preprocessing. Tokenizing the stop words generated tokens ['abov', 'afterward', 'alon', 'alreadi', 'alway', 'ani', 'anoth', 'anyon', 'anyth', 'anywher', 'becam', 'becaus', 'becom', 'befor', 'besid', 'cri', 'describ', 'dure', 'els', 'elsewher', 'empti', 'everi', 'everyon', 'everyth', 'everywher', 'fifti', 'formerli', 'forti', 'henc', 'hereaft', 'herebi', 'howev', 'hundr', 'inde', 'latterli', 'mani', 'meanwhil', 'moreov', 'mostli', 'nobodi', 'noon', 'noth', 'nowher', 'onc', 'onli', 'otherwis', 'ourselv', 'perhap', 'pleas', 'seriou', 'sever', 'sinc', 'sincer', 'sixti', 'someon', 'someth', 'sometim', 'somewher', 'themselv', 'thenc', 'thereaft', 'therebi', 'therefor', 'thi', 'thu', 'togeth', 'twelv', 'twenti', 'veri', 'whatev', 'whenc', 'whenev', 'wherea', 'whereaft', 'wherebi', 'wherev', 'whi', 'yourselv'] not in stop_words.\n",
            "  'stop_words.' % sorted(inconsistent))\n"
          ],
          "name": "stderr"
        }
      ]
    },
    {
      "cell_type": "code",
      "metadata": {
        "id": "_lUwxVPDRtDV",
        "colab_type": "code",
        "outputId": "42553a73-e7bb-4d94-c832-4e6ea1493938",
        "colab": {
          "base_uri": "https://localhost:8080/",
          "height": 71
        }
      },
      "source": [
        "# Compute TF-IDF weights for Title\n",
        "tfidf_weights_title = title_tfidf_vectorizer.fit_transform(papers['clean_title'])\n",
        "\n",
        "# Get feature names for Abstract and Title models\n",
        "tfidf_features_title = title_tfidf_vectorizer.get_feature_names()\n",
        "tfidf_features_abs = abs_tfidf_vectorizer.get_feature_names()"
      ],
      "execution_count": 0,
      "outputs": [
        {
          "output_type": "stream",
          "text": [
            "/usr/local/lib/python3.6/dist-packages/sklearn/feature_extraction/text.py:300: UserWarning: Your stop_words may be inconsistent with your preprocessing. Tokenizing the stop words generated tokens ['abov', 'afterward', 'alon', 'alreadi', 'alway', 'ani', 'anoth', 'anyon', 'anyth', 'anywher', 'becam', 'becaus', 'becom', 'befor', 'besid', 'cri', 'describ', 'dure', 'els', 'elsewher', 'empti', 'everi', 'everyon', 'everyth', 'everywher', 'fifti', 'formerli', 'forti', 'henc', 'hereaft', 'herebi', 'howev', 'hundr', 'inde', 'latterli', 'mani', 'meanwhil', 'moreov', 'mostli', 'nobodi', 'noon', 'noth', 'nowher', 'onc', 'onli', 'otherwis', 'ourselv', 'perhap', 'pleas', 'seriou', 'sever', 'sinc', 'sincer', 'sixti', 'someon', 'someth', 'sometim', 'somewher', 'themselv', 'thenc', 'thereaft', 'therebi', 'therefor', 'thi', 'thu', 'togeth', 'twelv', 'twenti', 'veri', 'whatev', 'whenc', 'whenev', 'wherea', 'whereaft', 'wherebi', 'wherev', 'whi', 'yourselv'] not in stop_words.\n",
            "  'stop_words.' % sorted(inconsistent))\n"
          ],
          "name": "stderr"
        }
      ]
    },
    {
      "cell_type": "markdown",
      "metadata": {
        "id": "nObDwPzbRzO3",
        "colab_type": "text"
      },
      "source": [
        "**Write function to get the top-k features associated with a document**"
      ]
    },
    {
      "cell_type": "code",
      "metadata": {
        "id": "Efpv4SwBRxX1",
        "colab_type": "code",
        "outputId": "d50b022b-39ca-47dd-e17e-e37cb7e55bb2",
        "colab": {
          "base_uri": "https://localhost:8080/",
          "height": 188
        }
      },
      "source": [
        "# Function for returning the top_k features of an Abstract\n",
        "# or Title\n",
        "def get_top_features(rownum, weights, features, top_k=10):\n",
        "    weight_vec = weights.toarray()[rownum,:]\n",
        "    top_idx = np.argsort(weight_vec)[::-1][:top_k]\n",
        "    return [features[i] for i in top_idx]\n",
        "\n",
        "# Top k features of Abstract 1\n",
        "get_top_features(1, tfidf_weights_abs, tfidf_features_abs)"
      ],
      "execution_count": 0,
      "outputs": [
        {
          "output_type": "execute_result",
          "data": {
            "text/plain": [
              "['cornea',\n",
              " 'discuss',\n",
              " 'wet',\n",
              " 'discomfort',\n",
              " 'situat',\n",
              " 'network',\n",
              " 'neural',\n",
              " 'seen',\n",
              " 'maintain',\n",
              " 'issu']"
            ]
          },
          "metadata": {
            "tags": []
          },
          "execution_count": 13
        }
      ]
    },
    {
      "cell_type": "code",
      "metadata": {
        "id": "NdVFgUGnR7FT",
        "colab_type": "code",
        "outputId": "ecf6d765-01a1-4cb6-996c-de339f977dbc",
        "colab": {
          "base_uri": "https://localhost:8080/",
          "height": 188
        }
      },
      "source": [
        "# Top k features of Title 1\n",
        "get_top_features(1, tfidf_weights_title, tfidf_features_title)"
      ],
      "execution_count": 0,
      "outputs": [
        {
          "output_type": "execute_result",
          "data": {
            "text/plain": [
              "['isopt',\n",
              " 'hot',\n",
              " 'discuss',\n",
              " 'cornea',\n",
              " 'anterior',\n",
              " 'segment',\n",
              " 'topic',\n",
              " 'panel',\n",
              " 'diseas',\n",
              " 'clinic']"
            ]
          },
          "metadata": {
            "tags": []
          },
          "execution_count": 14
        }
      ]
    },
    {
      "cell_type": "markdown",
      "metadata": {
        "id": "uhNFTcNAUB7I",
        "colab_type": "text"
      },
      "source": [
        "**Build Nearest Neighbors model using Abstract and Title TF-IDF matrices**"
      ]
    },
    {
      "cell_type": "code",
      "metadata": {
        "id": "C6eKPtIFUCxb",
        "colab_type": "code",
        "colab": {}
      },
      "source": [
        "\n",
        "# Build model to return 5 closest neighbors\n",
        "from sklearn.neighbors import NearestNeighbors\n",
        "\n",
        "# Create the k-NN model using k=5\n",
        "nn_abs = NearestNeighbors(n_neighbors=5, algorithm='auto')\n",
        "nn_title = NearestNeighbors(n_neighbors=5, algorithm='auto')\n",
        "\n",
        "# Fit the models to the TF-IDF weights matrix\n",
        "nn_fitted_abs = nn_abs.fit(tfidf_weights_abs)\n",
        "nn_fitted_title = nn_title.fit(tfidf_weights_title)\n",
        "\n",
        "# function to return the top-k nearest papers\n",
        "\n",
        "def find_nearest_papers(row, kNNmodel, tfidf_weights, tfidf_features, papers):\n",
        "    keywords = get_top_features(row, tfidf_weights, tfidf_features)\n",
        "    dist,idx = kNNmodel.kneighbors(tfidf_weights[row,:])\n",
        "    idx = list(idx[0])\n",
        "    return {'papers':papers.ix[idx], 'keywords':keywords}"
      ],
      "execution_count": 0,
      "outputs": []
    },
    {
      "cell_type": "markdown",
      "metadata": {
        "id": "ugxy4rFzUacM",
        "colab_type": "text"
      },
      "source": [
        "**Return papers based on Abstract similarity**\n",
        "\n",
        "Now that we have a function to return similar papers, we can use it to find papers with similar abstracts. We can return Authors, Title, or Abstract of similar matches"
      ]
    },
    {
      "cell_type": "code",
      "metadata": {
        "id": "jkdd8AtbUcqp",
        "colab_type": "code",
        "outputId": "e9c7f5bd-dccc-40e9-9ba4-a32afa6fbfea",
        "colab": {
          "base_uri": "https://localhost:8080/",
          "height": 460
        }
      },
      "source": [
        "find_nearest_papers(1, nn_fitted_abs, tfidf_weights_abs, tfidf_features_abs, papers)['papers']"
      ],
      "execution_count": 0,
      "outputs": [
        {
          "output_type": "stream",
          "text": [
            "/usr/local/lib/python3.6/dist-packages/ipykernel_launcher.py:17: DeprecationWarning: \n",
            ".ix is deprecated. Please use\n",
            ".loc for label based indexing or\n",
            ".iloc for positional indexing\n",
            "\n",
            "See the documentation here:\n",
            "http://pandas.pydata.org/pandas-docs/stable/indexing.html#ix-indexer-is-deprecated\n"
          ],
          "name": "stderr"
        },
        {
          "output_type": "execute_result",
          "data": {
            "text/html": [
              "<div>\n",
              "<style scoped>\n",
              "    .dataframe tbody tr th:only-of-type {\n",
              "        vertical-align: middle;\n",
              "    }\n",
              "\n",
              "    .dataframe tbody tr th {\n",
              "        vertical-align: top;\n",
              "    }\n",
              "\n",
              "    .dataframe thead th {\n",
              "        text-align: right;\n",
              "    }\n",
              "</style>\n",
              "<table border=\"1\" class=\"dataframe\">\n",
              "  <thead>\n",
              "    <tr style=\"text-align: right;\">\n",
              "      <th></th>\n",
              "      <th>title</th>\n",
              "      <th>authors</th>\n",
              "      <th>abstract</th>\n",
              "      <th>clean_abstract</th>\n",
              "      <th>clean_title</th>\n",
              "    </tr>\n",
              "  </thead>\n",
              "  <tbody>\n",
              "    <tr>\n",
              "      <th>1</th>\n",
              "      <td>ISOPT Clinical Hot Topic Panel Discussion on C...</td>\n",
              "      <td>[Asbell PA, Aquavella JV, Hamrah P, Pepose JS,...</td>\n",
              "      <td>The cornea and its adnexa pose a unique situat...</td>\n",
              "      <td>the cornea and its adnexa pose a unique situat...</td>\n",
              "      <td>isopt clinical hot topic panel discussion on c...</td>\n",
              "    </tr>\n",
              "    <tr>\n",
              "      <th>157</th>\n",
              "      <td>Functional network connectivity impairments an...</td>\n",
              "      <td>[Adhikari BM, Hong LE, Sampath H, Chiappelli J...</td>\n",
              "      <td>Cognitive deficits contribute to functional di...</td>\n",
              "      <td>cognitive deficits contribute to functional di...</td>\n",
              "      <td>functional network connectivity impairments an...</td>\n",
              "    </tr>\n",
              "    <tr>\n",
              "      <th>71</th>\n",
              "      <td>Resting-state fMRI dynamic functional network ...</td>\n",
              "      <td>[Espinoza FA, Anderson NE, Vergara VM, Harensk...</td>\n",
              "      <td>Studies have used resting-state functional mag...</td>\n",
              "      <td>studies have used resting state functional mag...</td>\n",
              "      <td>resting state fmri dynamic functional network ...</td>\n",
              "    </tr>\n",
              "    <tr>\n",
              "      <th>372</th>\n",
              "      <td>The spatial chronnectome reveals a dynamic int...</td>\n",
              "      <td>[Iraji A, Deramus TP, Lewis N, Yaesoubi M, Ste...</td>\n",
              "      <td>The brain is highly dynamic, reorganizing its ...</td>\n",
              "      <td>the brain is highly dynamic reorganizing its a...</td>\n",
              "      <td>the spatial chronnectome reveals a dynamic int...</td>\n",
              "    </tr>\n",
              "    <tr>\n",
              "      <th>453</th>\n",
              "      <td>Force of Habit: Developing Situation Awareness...</td>\n",
              "      <td>[Lauria MJ, Ghobrial MK, Hicks CM]</td>\n",
              "      <td>Situation awareness (SA) is a vital cognitive ...</td>\n",
              "      <td>situation awareness sa is a vital cognitive sk...</td>\n",
              "      <td>force of habit developing situation awareness ...</td>\n",
              "    </tr>\n",
              "  </tbody>\n",
              "</table>\n",
              "</div>"
            ],
            "text/plain": [
              "                                                 title  ...                                        clean_title\n",
              "1    ISOPT Clinical Hot Topic Panel Discussion on C...  ...  isopt clinical hot topic panel discussion on c...\n",
              "157  Functional network connectivity impairments an...  ...  functional network connectivity impairments an...\n",
              "71   Resting-state fMRI dynamic functional network ...  ...  resting state fmri dynamic functional network ...\n",
              "372  The spatial chronnectome reveals a dynamic int...  ...  the spatial chronnectome reveals a dynamic int...\n",
              "453  Force of Habit: Developing Situation Awareness...  ...  force of habit developing situation awareness ...\n",
              "\n",
              "[5 rows x 5 columns]"
            ]
          },
          "metadata": {
            "tags": []
          },
          "execution_count": 16
        }
      ]
    },
    {
      "cell_type": "markdown",
      "metadata": {
        "id": "L95L6td-UfYg",
        "colab_type": "text"
      },
      "source": [
        "**Return papers based on Title similarity**\n",
        "\n",
        "Now that we have a function to return similar papers, we can use it to find papers with similar Titles. We can return Authors, Title, or Abstract of similar matches"
      ]
    },
    {
      "cell_type": "code",
      "metadata": {
        "id": "FoCrp3s3UjuH",
        "colab_type": "code",
        "outputId": "0c3b9223-cfd2-4bf2-c38e-665cb85bd62b",
        "colab": {
          "base_uri": "https://localhost:8080/",
          "height": 477
        }
      },
      "source": [
        "find_nearest_papers(1, nn_fitted_title, tfidf_weights_title, tfidf_features_title, papers)['papers']"
      ],
      "execution_count": 0,
      "outputs": [
        {
          "output_type": "stream",
          "text": [
            "/usr/local/lib/python3.6/dist-packages/ipykernel_launcher.py:17: DeprecationWarning: \n",
            ".ix is deprecated. Please use\n",
            ".loc for label based indexing or\n",
            ".iloc for positional indexing\n",
            "\n",
            "See the documentation here:\n",
            "http://pandas.pydata.org/pandas-docs/stable/indexing.html#ix-indexer-is-deprecated\n"
          ],
          "name": "stderr"
        },
        {
          "output_type": "execute_result",
          "data": {
            "text/html": [
              "<div>\n",
              "<style scoped>\n",
              "    .dataframe tbody tr th:only-of-type {\n",
              "        vertical-align: middle;\n",
              "    }\n",
              "\n",
              "    .dataframe tbody tr th {\n",
              "        vertical-align: top;\n",
              "    }\n",
              "\n",
              "    .dataframe thead th {\n",
              "        text-align: right;\n",
              "    }\n",
              "</style>\n",
              "<table border=\"1\" class=\"dataframe\">\n",
              "  <thead>\n",
              "    <tr style=\"text-align: right;\">\n",
              "      <th></th>\n",
              "      <th>title</th>\n",
              "      <th>authors</th>\n",
              "      <th>abstract</th>\n",
              "      <th>clean_abstract</th>\n",
              "      <th>clean_title</th>\n",
              "    </tr>\n",
              "  </thead>\n",
              "  <tbody>\n",
              "    <tr>\n",
              "      <th>1</th>\n",
              "      <td>ISOPT Clinical Hot Topic Panel Discussion on C...</td>\n",
              "      <td>[Asbell PA, Aquavella JV, Hamrah P, Pepose JS,...</td>\n",
              "      <td>The cornea and its adnexa pose a unique situat...</td>\n",
              "      <td>the cornea and its adnexa pose a unique situat...</td>\n",
              "      <td>isopt clinical hot topic panel discussion on c...</td>\n",
              "    </tr>\n",
              "    <tr>\n",
              "      <th>511</th>\n",
              "      <td>Racial variation in the complexity of coronary...</td>\n",
              "      <td>[Elbadawi A, Alotaki E, Vazquez C, Barssoum K,...</td>\n",
              "      <td>BACKGROUND: Racial variations in presentation ...</td>\n",
              "      <td>background racial variations in presentation o...</td>\n",
              "      <td>racial variation in the complexity of coronary...</td>\n",
              "    </tr>\n",
              "    <tr>\n",
              "      <th>234</th>\n",
              "      <td>Critical developments of 2018: A review of the...</td>\n",
              "      <td>[Cohn CS, Allen ES, Cushing MM, Dunbar NM, Fri...</td>\n",
              "      <td>BACKGROUND: The AABB compiles an annual synops...</td>\n",
              "      <td>background the aabb compiles an annual synopsi...</td>\n",
              "      <td>critical developments of a review of the liter...</td>\n",
              "    </tr>\n",
              "    <tr>\n",
              "      <th>266</th>\n",
              "      <td>Development and Validation of a MicroRNA Panel...</td>\n",
              "      <td>[Ormseth MJ, Solus JF, Sheng Q, Ye F, Wu Q, Gu...</td>\n",
              "      <td>OBJECTIVE: MicroRNA (miRNA) are short noncodin...</td>\n",
              "      <td>objective microrna mirna are short noncoding r...</td>\n",
              "      <td>development and validation of a microrna panel...</td>\n",
              "    </tr>\n",
              "    <tr>\n",
              "      <th>665</th>\n",
              "      <td>A Simple Framework for Weighting Panels Across...</td>\n",
              "      <td>[Kamnetz S, Trowbridge E, Lochner J, Koslov S,...</td>\n",
              "      <td>BACKGROUND: Health system redesign necessitate...</td>\n",
              "      <td>background health system redesign necessitates...</td>\n",
              "      <td>a simple framework for weighting panels across...</td>\n",
              "    </tr>\n",
              "  </tbody>\n",
              "</table>\n",
              "</div>"
            ],
            "text/plain": [
              "                                                 title  ...                                        clean_title\n",
              "1    ISOPT Clinical Hot Topic Panel Discussion on C...  ...  isopt clinical hot topic panel discussion on c...\n",
              "511  Racial variation in the complexity of coronary...  ...  racial variation in the complexity of coronary...\n",
              "234  Critical developments of 2018: A review of the...  ...  critical developments of a review of the liter...\n",
              "266  Development and Validation of a MicroRNA Panel...  ...  development and validation of a microrna panel...\n",
              "665  A Simple Framework for Weighting Panels Across...  ...  a simple framework for weighting panels across...\n",
              "\n",
              "[5 rows x 5 columns]"
            ]
          },
          "metadata": {
            "tags": []
          },
          "execution_count": 17
        }
      ]
    },
    {
      "cell_type": "markdown",
      "metadata": {
        "id": "pImzHOpQVXQv",
        "colab_type": "text"
      },
      "source": [
        "**Let's find similar articles using Abstract similarity**"
      ]
    },
    {
      "cell_type": "code",
      "metadata": {
        "id": "Gw71bdocVck0",
        "colab_type": "code",
        "outputId": "38c9954e-6a7a-446b-fab9-e1f695eb3e47",
        "colab": {
          "base_uri": "https://localhost:8080/",
          "height": 96
        }
      },
      "source": [
        "title = \"A contemporary review of obstructive sleep apnea.\" #provide actual name of a paper\n",
        "papers[papers['title']==title]"
      ],
      "execution_count": 0,
      "outputs": [
        {
          "output_type": "execute_result",
          "data": {
            "text/html": [
              "<div>\n",
              "<style scoped>\n",
              "    .dataframe tbody tr th:only-of-type {\n",
              "        vertical-align: middle;\n",
              "    }\n",
              "\n",
              "    .dataframe tbody tr th {\n",
              "        vertical-align: top;\n",
              "    }\n",
              "\n",
              "    .dataframe thead th {\n",
              "        text-align: right;\n",
              "    }\n",
              "</style>\n",
              "<table border=\"1\" class=\"dataframe\">\n",
              "  <thead>\n",
              "    <tr style=\"text-align: right;\">\n",
              "      <th></th>\n",
              "      <th>title</th>\n",
              "      <th>authors</th>\n",
              "      <th>abstract</th>\n",
              "      <th>clean_abstract</th>\n",
              "      <th>clean_title</th>\n",
              "    </tr>\n",
              "  </thead>\n",
              "  <tbody>\n",
              "    <tr>\n",
              "      <th>4</th>\n",
              "      <td>A contemporary review of obstructive sleep apnea.</td>\n",
              "      <td>[Ralls F, Cutchen L]</td>\n",
              "      <td>PURPOSE OF REVIEW: This review provides a cont...</td>\n",
              "      <td>purpose of review this review provides a conte...</td>\n",
              "      <td>a contemporary review of obstructive sleep apnea</td>\n",
              "    </tr>\n",
              "  </tbody>\n",
              "</table>\n",
              "</div>"
            ],
            "text/plain": [
              "                                               title  ...                                        clean_title\n",
              "4  A contemporary review of obstructive sleep apnea.  ...  a contemporary review of obstructive sleep apnea \n",
              "\n",
              "[1 rows x 5 columns]"
            ]
          },
          "metadata": {
            "tags": []
          },
          "execution_count": 18
        }
      ]
    },
    {
      "cell_type": "code",
      "metadata": {
        "id": "ySKDGpRIVv17",
        "colab_type": "code",
        "outputId": "ab4c7048-3c71-44af-b10b-74d8343fb0d6",
        "colab": {
          "base_uri": "https://localhost:8080/",
          "height": 308
        }
      },
      "source": [
        "nearest_papers = find_nearest_papers(4, nn_fitted_abs, tfidf_weights_abs, tfidf_features_abs, papers)\n",
        "for i in nearest_papers['keywords']: print (\"Keywords: \", i)"
      ],
      "execution_count": 0,
      "outputs": [
        {
          "output_type": "stream",
          "text": [
            "Keywords:  sleep\n",
            "Keywords:  amyloid\n",
            "Keywords:  osa\n",
            "Keywords:  apnea\n",
            "Keywords:  breath\n",
            "Keywords:  elderli\n",
            "Keywords:  review\n",
            "Keywords:  acid\n",
            "Keywords:  aminobutyr\n",
            "Keywords:  gaba\n"
          ],
          "name": "stdout"
        },
        {
          "output_type": "stream",
          "text": [
            "/usr/local/lib/python3.6/dist-packages/ipykernel_launcher.py:17: DeprecationWarning: \n",
            ".ix is deprecated. Please use\n",
            ".loc for label based indexing or\n",
            ".iloc for positional indexing\n",
            "\n",
            "See the documentation here:\n",
            "http://pandas.pydata.org/pandas-docs/stable/indexing.html#ix-indexer-is-deprecated\n"
          ],
          "name": "stderr"
        }
      ]
    },
    {
      "cell_type": "code",
      "metadata": {
        "id": "66ML7so9VzDc",
        "colab_type": "code",
        "outputId": "1951d289-3bce-4bee-ac95-d7ca4b1bcf08",
        "colab": {
          "base_uri": "https://localhost:8080/",
          "height": 208
        }
      },
      "source": [
        "# Show the abstracts of similar papers\n",
        "for i in nearest_papers['papers']['abstract']: print (\"Abstract: \"+i+\"\\n\")"
      ],
      "execution_count": 0,
      "outputs": [
        {
          "output_type": "stream",
          "text": [
            "Abstract: PURPOSE OF REVIEW: This review provides a contemporary review of sleep apnea with emphasis on definitions, epidemiology, and consequences. RECENT FINDINGS: Amyloid beta-42 is one of the main peptides forming amyloid plaques in the brains of Alzheimer patients. Poorer sleep quality and shorter sleep duration have been associated with a higher amyloid burden. Decreased sleep time in the elderly is a precipitating factor in amyloid retention. Studies have shown that the dysregulation of the homeostatic balance of the major inhibitory and excitatory amino acid neurotransmitter systems of gamma-aminobutyric acid (GABA) and glutamate play a role in sleep disordered breathing (SDB). SUMMARY: Untreated sleep disordered breathing (obstructive sleep apnea and/or central sleep apnea) are an important cause of medical mortality and morbidity. OSA is characterized by recurrent episodes of partial or complete collapse of the upper airway during sleep followed by hypoxia and sympathetic activation. Apneic events are terminated by arousal, followed by increases in pulse and blood pressure, and re-oxygenation and the release of inflammatory factors. Individuals with OSA have an increased risk of developing atrial fibrillation. Hypoxemia and poor sleep quality because of OSA increase the risk of cognitive decline in the elderly.\n",
            "\n",
            "Abstract: Sleep-disordered breathing (SDB), including OSA and central sleep apnea, is highly prevalent in patients with heart failure (HF). Multiple studies have reported this high prevalence in asymptomatic as well as symptomatic patients with reduced left ventricular ejection fraction (HFrEF), as well as in those with HF with preserved ejection fraction. The acute pathobiologic consequences of OSA, including exaggerated sympathetic activity, oxidative stress, and inflammation, eventually could lead to progressive left ventricular dysfunction, repeated hospitalization, and excessive mortality. Large numbers of observational studies and a few small randomized controlled trials have shown improvement in various cardiovascular consequences of SDB with treatment. There are no long-term randomized controlled trials to show improved survival of patients with HF and treatment of OSA. One trial of positive airway pressure treatment of OSA included patients with HF and showed no improvement in clinical outcomes. However, any conclusions derived from this trial must take into account several important pitfalls that have been extensively discussed in the literature. With the role of positive airway pressure as the sole therapy for SDB in HF increasingly questioned, a critical examination of long-accepted concepts in this field is needed. The objective of this review was to incorporate recent advances in the field into a phenotype-based approach to the management of OSA in HF.\n",
            "\n",
            "Abstract: PURPOSE OF REVIEW: To understand the importance of rapid eye movement (REM) sleep in the cognitive and sensorimotor development via neural plasticity during embryonic development and infants. RECENT FINDINGS: REM sleep has remained a mystery as many of the underlying mechanisms of REM sleep remain unclear. Recent findings have demonstrated that REM sleep selectively prunes newly formed dendritic spines in the developing brain as well as strengthening new synapses in the developing brain. This process is critical for normal neuronal circuit development and behavioral improvement after learning. SUMMARY: Although many mechanisms of REM sleep remain unclear, recent findings strongly suggest that REM sleep is vitally important in pruning synapses as well as maintaining new synapses for the development of a healthy brain. Developmental neuroplasticity refers to the continuous change of the developing brain during fetal development. Lack of plasticity may result in reduced intellectual ability, reduced learning and memory consolidation, and mental illness.\n",
            "\n",
            "Abstract: Sleep is critically important to consolidate information learned throughout the day. Slow-wave sleep (SWS) serves to consolidate declarative memories, a process previously modulated with open-loop non-invasive electrical stimulation, though not always effectively. These failures to replicate could be explained by the fact that stimulation has only been performed in open-loop, as opposed to closed-loop where phase and frequency of the endogenous slow-wave oscillations (SWOs) are matched for optimal timing. The current study investigated the effects of closed-loop transcranial Alternating Current Stimulation (tACS) targeting SWOs during sleep on memory consolidation. 21 participants took part in a three-night, counterbalanced, randomized, single-blind, within-subjects study, investigating performance changes (correct rate and F1 score) on images in a target detection task over 24 h. During sleep, 1.5 mA closed-loop tACS was delivered in phase over electrodes at F3 and F4 and 180 degrees out of phase over electrodes at bilateral mastoids at the frequency (range 0.5-1.2 Hz) and phase of ongoing SWOs for a duration of 5 cycles in each discrete event throughout the night. Data were analyzed in a repeated measures ANOVA framework, and results show that verum stimulation improved post-sleep performance specifically on generalized versions of images used in training at both morning and afternoon tests compared to sham, suggesting the facilitation of schematization of information, but not of rote, veridical recall. We also found a surprising inverted U-shaped dose effect of sleep tACS, which is interpreted in terms of tACS-induced faciliatory and subsequent refractory dynamics of SWO power in scalp EEG. This is the first study showing a selective modulation of long-term memory generalization using a novel closed-loop tACS approach, which holds great potential for both healthy and neuropsychiatric populations.\n",
            "\n",
            "Abstract: OBJECTIVE: To describe sociodemographic factors and health behaviors among American Indian (AI) families with young children and determine predictors of adult and child weight status among these factors. DESIGN: Descriptive, cross-sectional baseline data. SETTING: One urban area and 4 rural AI reservations nationwide. PARTICIPANTS: A total of 450 AI families with children aged 2-5 years participating in the Healthy Children, Strong Families 2 intervention. INTERVENTION: Baseline data from a healthy lifestyles intervention. MAIN OUTCOME MEASURES: Child body mass index (BMI) z-score and adult BMI, and multiple healthy lifestyle outcomes. ANALYSIS: Descriptive statistics and stepwise regression. RESULTS: Adult and child combined overweight and obesity rates were high: 82% and 40%, respectively. Food insecurity was high (61%). Multiple lifestyle behaviors, including fruit and vegetable and sugar-sweetened beverage consumption, adult physical activity, and child screen time, did not meet national recommendations. Adult sleep was adequate but children had low overnight sleep duration of 10 h/d. Significant predictors of child obesity included more adults in the household (P = .003; beta = 0.153), an adult AI caregiver (P = .02; beta = 0.116), high adult BMI (P = .001; beta = 0.176), gestational diabetes, high child birth weight (P < .001; beta = 0.247), and the family activity and nutrition score (P = .04; beta = 0.130). CONCLUSIONS AND IMPLICATIONS: We found multiple child-, adult-, and household-level factors influence early childhood obesity in AI children, highlighting the need for interventions to mitigate the modifiable factors identified in this study, including early life influences, home environments, and health behaviors.\n",
            "\n"
          ],
          "name": "stdout"
        }
      ]
    },
    {
      "cell_type": "markdown",
      "metadata": {
        "id": "ijj53-6cV58T",
        "colab_type": "text"
      },
      "source": [
        "Applying k-Nearest Neighbors to TF-IDF weights matrix seems to be pretty effective at returning similar articles. The parameters that were chosen to build the TF-IDF models and k-Nearest Neighbors models were somewhat arbitrary. It would be resonable to assume that the accuracy of document retrieval could be improved if more time was invested in selecting optimal tuning parameters."
      ]
    },
    {
      "cell_type": "markdown",
      "metadata": {
        "id": "eCui25VcjJ0Q",
        "colab_type": "text"
      },
      "source": [
        "Try optimizing this one with K-means, Agglomerative clustering and DBSCAN."
      ]
    }
  ]
}